{
 "cells": [
  {
   "cell_type": "code",
   "execution_count": 8,
   "id": "52dd0de8",
   "metadata": {},
   "outputs": [],
   "source": [
    "import tensorflow as tf\n",
    "from tensorflow import keras\n",
    "from keras.models import Sequential\n",
    "from keras.layers import *\n",
    "import matplotlib.pyplot as plt\n",
    "import numpy as np\n",
    "import pandas as pd"
   ]
  },
  {
   "cell_type": "code",
   "execution_count": 2,
   "id": "382f5da7",
   "metadata": {},
   "outputs": [],
   "source": [
    "train_data = pd.read_csv('data/train.csv')\n",
    "test_data = pd.read_csv('data/test.csv')"
   ]
  },
  {
   "cell_type": "code",
   "execution_count": 3,
   "id": "b83df3b9",
   "metadata": {
    "collapsed": true
   },
   "outputs": [
    {
     "name": "stderr",
     "output_type": "stream",
     "text": [
      "2023-06-08 17:50:34.424595: I tensorflow/compiler/xla/stream_executor/cuda/cuda_gpu_executor.cc:982] could not open file to read NUMA node: /sys/bus/pci/devices/0000:01:00.0/numa_node\n",
      "Your kernel may have been built without NUMA support.\n",
      "2023-06-08 17:50:34.482545: I tensorflow/compiler/xla/stream_executor/cuda/cuda_gpu_executor.cc:982] could not open file to read NUMA node: /sys/bus/pci/devices/0000:01:00.0/numa_node\n",
      "Your kernel may have been built without NUMA support.\n",
      "2023-06-08 17:50:34.482600: I tensorflow/compiler/xla/stream_executor/cuda/cuda_gpu_executor.cc:982] could not open file to read NUMA node: /sys/bus/pci/devices/0000:01:00.0/numa_node\n",
      "Your kernel may have been built without NUMA support.\n",
      "2023-06-08 17:50:34.484875: I tensorflow/compiler/xla/stream_executor/cuda/cuda_gpu_executor.cc:982] could not open file to read NUMA node: /sys/bus/pci/devices/0000:01:00.0/numa_node\n",
      "Your kernel may have been built without NUMA support.\n",
      "2023-06-08 17:50:34.484932: I tensorflow/compiler/xla/stream_executor/cuda/cuda_gpu_executor.cc:982] could not open file to read NUMA node: /sys/bus/pci/devices/0000:01:00.0/numa_node\n",
      "Your kernel may have been built without NUMA support.\n",
      "2023-06-08 17:50:34.484968: I tensorflow/compiler/xla/stream_executor/cuda/cuda_gpu_executor.cc:982] could not open file to read NUMA node: /sys/bus/pci/devices/0000:01:00.0/numa_node\n",
      "Your kernel may have been built without NUMA support.\n",
      "2023-06-08 17:50:35.536419: I tensorflow/compiler/xla/stream_executor/cuda/cuda_gpu_executor.cc:982] could not open file to read NUMA node: /sys/bus/pci/devices/0000:01:00.0/numa_node\n",
      "Your kernel may have been built without NUMA support.\n",
      "2023-06-08 17:50:35.536751: I tensorflow/compiler/xla/stream_executor/cuda/cuda_gpu_executor.cc:982] could not open file to read NUMA node: /sys/bus/pci/devices/0000:01:00.0/numa_node\n",
      "Your kernel may have been built without NUMA support.\n",
      "2023-06-08 17:50:35.536767: I tensorflow/core/common_runtime/gpu/gpu_device.cc:1722] Could not identify NUMA node of platform GPU id 0, defaulting to 0.  Your kernel may not have been built with NUMA support.\n",
      "2023-06-08 17:50:35.536871: I tensorflow/compiler/xla/stream_executor/cuda/cuda_gpu_executor.cc:982] could not open file to read NUMA node: /sys/bus/pci/devices/0000:01:00.0/numa_node\n",
      "Your kernel may have been built without NUMA support.\n",
      "2023-06-08 17:50:35.536973: I tensorflow/core/common_runtime/gpu/gpu_device.cc:1635] Created device /job:localhost/replica:0/task:0/device:GPU:0 with 5361 MB memory:  -> device: 0, name: NVIDIA GeForce RTX 3070, pci bus id: 0000:01:00.0, compute capability: 8.6\n"
     ]
    }
   ],
   "source": [
    "# extracting sale price from train_data\n",
    "y_train = tf.convert_to_tensor(train_data['SalePrice'])\n",
    "train = train_data.drop('SalePrice', axis=1)"
   ]
  },
  {
   "cell_type": "code",
   "execution_count": 28,
   "id": "e11d4a6d",
   "metadata": {},
   "outputs": [],
   "source": [
    "# changing all string values to int\n",
    "repl = {}\n",
    "for column in train.columns:\n",
    "    if train[column].dtype not in ['int64', 'float64']:\n",
    "        unique_vals = train[column].unique()\n",
    "        for i in range(len(unique_vals)):\n",
    "            repl[unique_vals[i]] = i\n",
    "            \n",
    "        train[column] = train[column].replace(repl)\n",
    "\n",
    "train = train.astype('float64')\n",
    "train = train.fillna(0)\n",
    "X_train = tf.convert_to_tensor(train)"
   ]
  },
  {
   "cell_type": "code",
   "execution_count": 29,
   "id": "ca05ed13",
   "metadata": {},
   "outputs": [
    {
     "data": {
      "text/plain": [
       "TensorShape([1460, 80])"
      ]
     },
     "execution_count": 29,
     "metadata": {},
     "output_type": "execute_result"
    }
   ],
   "source": [
    "X_train.shape"
   ]
  },
  {
   "cell_type": "code",
   "execution_count": 30,
   "id": "c2fd5b76",
   "metadata": {},
   "outputs": [
    {
     "data": {
      "text/plain": [
       "<tf.Tensor: shape=(1460, 80), dtype=float64, numpy=\n",
       "array([[1.000e+00, 6.000e+01, 0.000e+00, ..., 2.008e+03, 0.000e+00,\n",
       "        0.000e+00],\n",
       "       [2.000e+00, 2.000e+01, 0.000e+00, ..., 2.007e+03, 0.000e+00,\n",
       "        0.000e+00],\n",
       "       [3.000e+00, 6.000e+01, 0.000e+00, ..., 2.008e+03, 0.000e+00,\n",
       "        0.000e+00],\n",
       "       ...,\n",
       "       [1.458e+03, 7.000e+01, 0.000e+00, ..., 2.010e+03, 0.000e+00,\n",
       "        0.000e+00],\n",
       "       [1.459e+03, 2.000e+01, 0.000e+00, ..., 2.010e+03, 0.000e+00,\n",
       "        0.000e+00],\n",
       "       [1.460e+03, 2.000e+01, 0.000e+00, ..., 2.008e+03, 0.000e+00,\n",
       "        0.000e+00]])>"
      ]
     },
     "execution_count": 30,
     "metadata": {},
     "output_type": "execute_result"
    }
   ],
   "source": [
    "X_train"
   ]
  },
  {
   "cell_type": "code",
   "execution_count": 38,
   "id": "685591f7",
   "metadata": {},
   "outputs": [],
   "source": [
    "lr = 0.01\n",
    "opt = keras.optimizers.Adam(lr)\n",
    "model = Sequential()\n",
    "model.add(Dense(64, activation='relu', input_shape=(80,)))\n",
    "model.add(Dense(64, activation='relu'))\n",
    "model.add(Dense(1, activation='relu'))\n",
    "model.compile(optimizer=opt, loss='mean_squared_logarithmic_error', metrics=['accuracy'])"
   ]
  },
  {
   "cell_type": "code",
   "execution_count": 39,
   "id": "c479f1b7",
   "metadata": {},
   "outputs": [
    {
     "name": "stdout",
     "output_type": "stream",
     "text": [
      "Epoch 1/10\n",
      "92/92 [==============================] - 2s 6ms/step - loss: 1.4787 - accuracy: 0.0000e+00\n",
      "Epoch 2/10\n",
      "92/92 [==============================] - 1s 5ms/step - loss: 0.0978 - accuracy: 0.0000e+00\n",
      "Epoch 3/10\n",
      "92/92 [==============================] - 1s 5ms/step - loss: 0.0838 - accuracy: 0.0000e+00\n",
      "Epoch 4/10\n",
      "92/92 [==============================] - 1s 6ms/step - loss: 0.0673 - accuracy: 0.0000e+00\n",
      "Epoch 5/10\n",
      "92/92 [==============================] - 1s 6ms/step - loss: 0.0550 - accuracy: 0.0000e+00\n",
      "Epoch 6/10\n",
      "92/92 [==============================] - 0s 5ms/step - loss: 0.0481 - accuracy: 0.0000e+00\n",
      "Epoch 7/10\n",
      "92/92 [==============================] - 0s 5ms/step - loss: 0.0454 - accuracy: 0.0000e+00\n",
      "Epoch 8/10\n",
      "92/92 [==============================] - 1s 5ms/step - loss: 0.0450 - accuracy: 0.0000e+00\n",
      "Epoch 9/10\n",
      "92/92 [==============================] - 0s 5ms/step - loss: 0.0437 - accuracy: 0.0000e+00\n",
      "Epoch 10/10\n",
      "92/92 [==============================] - 1s 5ms/step - loss: 0.0423 - accuracy: 0.0000e+00\n"
     ]
    },
    {
     "data": {
      "text/plain": [
       "<keras.callbacks.History at 0x7f35c915a950>"
      ]
     },
     "execution_count": 39,
     "metadata": {},
     "output_type": "execute_result"
    }
   ],
   "source": [
    "model.fit(X_train, y_train, epochs=10, batch_size=16)"
   ]
  }
 ],
 "metadata": {
  "kernelspec": {
   "display_name": "Python [conda env:AI]",
   "language": "python",
   "name": "conda-env-AI-py"
  },
  "language_info": {
   "codemirror_mode": {
    "name": "ipython",
    "version": 3
   },
   "file_extension": ".py",
   "mimetype": "text/x-python",
   "name": "python",
   "nbconvert_exporter": "python",
   "pygments_lexer": "ipython3",
   "version": "3.11.3"
  }
 },
 "nbformat": 4,
 "nbformat_minor": 5
}
