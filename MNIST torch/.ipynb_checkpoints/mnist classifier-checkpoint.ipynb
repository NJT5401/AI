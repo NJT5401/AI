{
 "cells": [
  {
   "cell_type": "code",
   "execution_count": 54,
   "id": "15f57d03",
   "metadata": {},
   "outputs": [],
   "source": [
    "import torch\n",
    "import torch.nn.functional as F\n",
    "import tensorflow as tf\n",
    "import matplotlib.pyplot as plt\n",
    "import numpy as np\n",
    "import random\n",
    "%matplotlib inline"
   ]
  },
  {
   "cell_type": "code",
   "execution_count": 55,
   "id": "fcd7487e",
   "metadata": {},
   "outputs": [],
   "source": [
    "data = tf.keras.datasets.mnist.load_data(\n",
    "    path='mnist.npz'\n",
    ")"
   ]
  },
  {
   "cell_type": "code",
   "execution_count": 56,
   "id": "0fca3280",
   "metadata": {},
   "outputs": [],
   "source": [
    "# extracts splits from dataset\n",
    "splits = []\n",
    "for split in data:\n",
    "    for label in split:\n",
    "        splits.append(label)\n",
    "\n",
    "X_train, y_train, X_test, y_test = splits"
   ]
  },
  {
   "cell_type": "code",
   "execution_count": 57,
   "id": "abc97400",
   "metadata": {},
   "outputs": [
    {
     "data": {
      "text/plain": [
       "(60000, 28, 28)"
      ]
     },
     "execution_count": 57,
     "metadata": {},
     "output_type": "execute_result"
    }
   ],
   "source": [
    "X_train.shape"
   ]
  },
  {
   "cell_type": "code",
   "execution_count": 58,
   "id": "3086c81f",
   "metadata": {},
   "outputs": [],
   "source": [
    "X_train = X_train.reshape(60000, 784)\n",
    "X_test = X_test.reshape(10000, 784)"
   ]
  },
  {
   "cell_type": "code",
   "execution_count": 59,
   "id": "3ebc6946",
   "metadata": {},
   "outputs": [],
   "source": [
    "X_train = torch.from_numpy(X_train / 255)\n",
    "X_test = torch.from_numpy(X_test / 255)"
   ]
  },
  {
   "cell_type": "code",
   "execution_count": 60,
   "id": "5b9376e5",
   "metadata": {},
   "outputs": [],
   "source": [
    "y_train = torch.from_numpy(y_train)\n",
    "y_test = torch.from_numpy(y_test)"
   ]
  },
  {
   "cell_type": "code",
   "execution_count": 61,
   "id": "aef11c9e",
   "metadata": {},
   "outputs": [],
   "source": [
    "n_hidden = 64\n",
    "\n",
    "W1 = torch.randn((784, n_hidden)).double()\n",
    "b1 = torch.randn(n_hidden).double()\n",
    "W2 = torch.randn((n_hidden, 10)).double()\n",
    "b2 = torch.randn(10).double()\n",
    "params = [W1, b1, W2, b2]\n",
    "\n",
    "for param in params:\n",
    "    param.requires_grad = True"
   ]
  },
  {
   "cell_type": "code",
   "execution_count": 67,
   "id": "4561e039",
   "metadata": {},
   "outputs": [
    {
     "name": "stdout",
     "output_type": "stream",
     "text": [
      "      0/  50000: 1.6168\n",
      "  10000/  50000: 1.5683\n",
      "  20000/  50000: 1.5591\n",
      "  30000/  50000: 1.5976\n",
      "  40000/  50000: 1.6246\n"
     ]
    }
   ],
   "source": [
    "steps = 50000\n",
    "batch_size = 32\n",
    "lossi = []\n",
    "\n",
    "for i in range(steps):\n",
    "    \n",
    "    ix = torch.randint(0, X_train.shape[0], (batch_size, ))\n",
    "    Xb, Yb = X_train[ix], y_train[ix]\n",
    "    \n",
    "    hpreact = Xb @ W1 + b1\n",
    "    h = torch.tanh(hpreact)\n",
    "    opreact = h @ W2 + b2\n",
    "    sm = torch.nn.Softmax(dim=1)\n",
    "    o = sm(opreact)\n",
    "    loss = F.cross_entropy(o, Yb)\n",
    "    \n",
    "    for p in params:\n",
    "        p.grad = None\n",
    "    loss.backward()\n",
    "    \n",
    "    lr = 0.1 #if i < steps // 2 else 0.01  # switches learning rate at 100000 steps in order to be more accurate\n",
    "    for p in params:\n",
    "        p.data += -lr * p.grad\n",
    "        \n",
    "    if i % 10000 == 0:\n",
    "        print(f'{i:7d}/{steps:7d}: {loss.item():.4f}') # prints loss every 10000 steps\n",
    "    lossi.append(loss.log10().item())"
   ]
  },
  {
   "cell_type": "code",
   "execution_count": 66,
   "id": "9535f144",
   "metadata": {},
   "outputs": [
    {
     "data": {
      "text/plain": [
       "[<matplotlib.lines.Line2D at 0x7f7ad2f1a590>]"
      ]
     },
     "execution_count": 66,
     "metadata": {},
     "output_type": "execute_result"
    },
    {
     "data": {
      "image/png": "[encoded data removed]",
      "text/plain": [
       "<Figure size 640x480 with 1 Axes>"
      ]
     },
     "metadata": {},
     "output_type": "display_data"
    }
   ],
   "source": [
    "plt.plot(lossi)"
   ]
  }
 ],
 "metadata": {
  "kernelspec": {
   "display_name": "Python [conda env:AI]",
   "language": "python",
   "name": "conda-env-AI-py"
  },
  "language_info": {
   "codemirror_mode": {
    "name": "ipython",
    "version": 3
   },
   "file_extension": ".py",
   "mimetype": "text/x-python",
   "name": "python",
   "nbconvert_exporter": "python",
   "pygments_lexer": "ipython3",
   "version": "3.11.3"
  }
 },
 "nbformat": 4,
 "nbformat_minor": 5
}
