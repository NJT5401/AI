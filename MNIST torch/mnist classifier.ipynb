{
 "cells": [
  {
   "cell_type": "code",
   "execution_count": 1,
   "id": "15f57d03",
   "metadata": {},
   "outputs": [
    {
     "name": "stderr",
     "output_type": "stream",
     "text": [
      "2024-01-12 13:51:29.820365: I tensorflow/core/platform/cpu_feature_guard.cc:182] This TensorFlow binary is optimized to use available CPU instructions in performance-critical operations.\n",
      "To enable the following instructions: SSE4.1 SSE4.2 AVX AVX2 AVX512F AVX512_VNNI FMA, in other operations, rebuild TensorFlow with the appropriate compiler flags.\n"
     ]
    }
   ],
   "source": [
    "import torch\n",
    "import torch.nn.functional as F\n",
    "import tensorflow as tf\n",
    "import matplotlib.pyplot as plt\n",
    "import numpy as np\n",
    "import random\n",
    "%matplotlib inline"
   ]
  },
  {
   "cell_type": "code",
   "execution_count": 2,
   "id": "875c9b4d",
   "metadata": {},
   "outputs": [],
   "source": [
    "device = torch.device(\"cuda:0\")\n",
    "torch.set_default_device(device)"
   ]
  },
  {
   "cell_type": "code",
   "execution_count": 3,
   "id": "fcd7487e",
   "metadata": {},
   "outputs": [],
   "source": [
    "def load_data(path):\n",
    "    with np.load(path) as f:\n",
    "        x_train, y_train = f['x_train'], f['y_train']\n",
    "        x_test, y_test = f['x_test'], f['y_test']\n",
    "        return (x_train, y_train), (x_test, y_test)\n",
    "\n",
    "(X_train, y_train), (X_test, y_test) = load_data('data/mnist.npz')"
   ]
  },
  {
   "cell_type": "code",
   "execution_count": 4,
   "id": "abc97400",
   "metadata": {},
   "outputs": [
    {
     "data": {
      "text/plain": [
       "(60000, 28, 28)"
      ]
     },
     "execution_count": 4,
     "metadata": {},
     "output_type": "execute_result"
    }
   ],
   "source": [
    "X_train.shape"
   ]
  },
  {
   "cell_type": "code",
   "execution_count": 5,
   "id": "3086c81f",
   "metadata": {},
   "outputs": [],
   "source": [
    "X_train = X_train.reshape(60000, 784)\n",
    "X_test = X_test.reshape(10000, 784)"
   ]
  },
  {
   "cell_type": "code",
   "execution_count": 6,
   "id": "3ebc6946",
   "metadata": {},
   "outputs": [],
   "source": [
    "X_train = torch.from_numpy(X_train / 255)\n",
    "X_test = torch.from_numpy(X_test / 255)"
   ]
  },
  {
   "cell_type": "code",
   "execution_count": 7,
   "id": "5b9376e5",
   "metadata": {},
   "outputs": [],
   "source": [
    "y_train = torch.from_numpy(y_train)\n",
    "y_test = torch.from_numpy(y_test)"
   ]
  },
  {
   "cell_type": "code",
   "execution_count": 8,
   "id": "4c3574af",
   "metadata": {},
   "outputs": [],
   "source": [
    "X_train = X_train\n",
    "y_train = y_train\n",
    "X_test = X_test\n",
    "y_test = y_test"
   ]
  },
  {
   "cell_type": "code",
   "execution_count": 9,
   "id": "aef11c9e",
   "metadata": {},
   "outputs": [],
   "source": [
    "n_hidden = 64\n",
    "\n",
    "W1 = torch.randn((784, n_hidden)).double()\n",
    "b1 = torch.randn(n_hidden).double()\n",
    "W2 = torch.randn((n_hidden, 10)).double()\n",
    "b2 = torch.randn(10).double()\n",
    "params = [W1, b1, W2, b2]\n",
    "\n",
    "for param in params:\n",
    "    param.requires_grad = True"
   ]
  },
  {
   "cell_type": "code",
   "execution_count": 10,
   "id": "92a710f0",
   "metadata": {},
   "outputs": [
    {
     "name": "stdout",
     "output_type": "stream",
     "text": [
      "/home/nickt/anaconda3/envs/AI/lib/python3.11/site-packages\n"
     ]
    }
   ],
   "source": [
    "from distutils.sysconfig import get_python_lib\n",
    "print(get_python_lib())"
   ]
  },
  {
   "cell_type": "code",
   "execution_count": 11,
   "id": "4561e039",
   "metadata": {},
   "outputs": [
    {
     "name": "stdout",
     "output_type": "stream",
     "text": [
      "      0/  50000: 2.3361\n",
      "  10000/  50000: 1.5951\n",
      "  20000/  50000: 1.5886\n",
      "  30000/  50000: 1.4974\n",
      "  40000/  50000: 1.6838\n"
     ]
    }
   ],
   "source": [
    "steps = 50000\n",
    "batch_size = 32\n",
    "lossi = []\n",
    "\n",
    "for i in range(steps):\n",
    "    \n",
    "    ix = torch.randint(0, X_train.shape[0], (batch_size, ))\n",
    "    Xb, Yb = X_train[ix], y_train[ix]\n",
    "    \n",
    "    hpreact = Xb @ W1 + b1\n",
    "    h = torch.tanh(hpreact)\n",
    "    opreact = h @ W2 + b2\n",
    "    sm = torch.nn.Softmax(dim=1)\n",
    "    o = sm(opreact)\n",
    "    loss = F.cross_entropy(o, Yb)\n",
    "    \n",
    "    for p in params:\n",
    "        p.grad = None\n",
    "    loss.backward()\n",
    "    \n",
    "    lr = 0.1 #if i < steps // 2 else 0.01  # switches learning rate at 100000 steps in order to be more accurate\n",
    "    for p in params:\n",
    "        p.data += -lr * p.grad\n",
    "        \n",
    "    if i % 10000 == 0:\n",
    "        print(f'{i:7d}/{steps:7d}: {loss.item():.4f}') # prints loss every 10000 steps\n",
    "    lossi.append(loss.log10().item())"
   ]
  },
  {
   "cell_type": "code",
   "execution_count": 12,
   "id": "9535f144",
   "metadata": {},
   "outputs": [
    {
     "data": {
      "text/plain": [
       "[<matplotlib.lines.Line2D at 0x7f3670411390>]"
      ]
     },
     "execution_count": 12,
     "metadata": {},
     "output_type": "execute_result"
    },
    {
     "data": {
      "image/png": "[encoded data removed]",
      "text/plain": [
       "<Figure size 640x480 with 1 Axes>"
      ]
     },
     "metadata": {},
     "output_type": "display_data"
    }
   ],
   "source": [
    "plt.plot(lossi)"
   ]
  }
 ],
 "metadata": {
  "kernelspec": {
   "display_name": "Python [conda env:AI]",
   "language": "python",
   "name": "conda-env-AI-py"
  },
  "language_info": {
   "codemirror_mode": {
    "name": "ipython",
    "version": 3
   },
   "file_extension": ".py",
   "mimetype": "text/x-python",
   "name": "python",
   "nbconvert_exporter": "python",
   "pygments_lexer": "ipython3",
   "version": "3.11.3"
  }
 },
 "nbformat": 4,
 "nbformat_minor": 5
}
