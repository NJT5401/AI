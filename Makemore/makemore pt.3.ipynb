{
 "cells": [
  {
   "cell_type": "code",
   "execution_count": 2,
   "id": "1dc97b14",
   "metadata": {},
   "outputs": [],
   "source": [
    "import torch\n",
    "import torch.nn.functional as F\n",
    "import matplotlib.pyplot as plt\n",
    "import random\n",
    "%matplotlib inline"
   ]
  },
  {
   "cell_type": "code",
   "execution_count": 3,
   "id": "f23004e7",
   "metadata": {},
   "outputs": [],
   "source": [
    "# reading names file\n",
    "words = open('names.txt', 'r').read().splitlines()"
   ]
  },
  {
   "cell_type": "code",
   "execution_count": 4,
   "id": "1c052164",
   "metadata": {},
   "outputs": [],
   "source": [
    "# mappings from integers to strings and vv\n",
    "chars = sorted(list(set(''.join(words))))\n",
    "stoi = {s:i+1 for i,s in enumerate(chars)}\n",
    "stoi['.'] = 0\n",
    "itos = {i:s for s,i in stoi.items()}\n",
    "vocab_size = len(itos)"
   ]
  },
  {
   "cell_type": "code",
   "execution_count": 5,
   "id": "8620d8f7",
   "metadata": {},
   "outputs": [],
   "source": [
    "# build dataset with train and test split\n",
    "block_size = 3 # how many chars taken to predict the next char\n",
    "def build_dataset(words):\n",
    "    X, Y = [], []\n",
    "    for w in words:\n",
    "\n",
    "        context = [0] * block_size\n",
    "        for ch in w + '.':\n",
    "            ix = stoi[ch]\n",
    "            X.append(context)\n",
    "            Y.append(ix)\n",
    "            context = context[1:] + [ix]\n",
    "\n",
    "    X = torch.tensor(X)\n",
    "    Y = torch.tensor(Y)\n",
    "    return X, Y\n",
    "\n",
    "random.seed(42)\n",
    "random.shuffle(words)\n",
    "n1 = int(0.8 * len(words))\n",
    "n2 = int(0.9 * len(words))\n",
    "\n",
    "Xtr, Ytr = build_dataset(words[:n1])\n",
    "Xdev, Ydev = build_dataset(words[n1:n2])\n",
    "Xte, Yte = build_dataset(words[n2:])"
   ]
  },
  {
   "cell_type": "code",
   "execution_count": 6,
   "id": "454b92cc",
   "metadata": {},
   "outputs": [
    {
     "name": "stdout",
     "output_type": "stream",
     "text": [
      "11897\n"
     ]
    }
   ],
   "source": [
    "# revisted MLP\n",
    "n_embd = 10 #dimensionality of the character embedding vectors\n",
    "n_hidden = 200 # number of neurons in the hidden layer\n",
    "\n",
    "g = torch.Generator().manual_seed(2147483647)\n",
    "C = torch.randn((vocab_size, n_embd), generator=g) # lookup table\n",
    "W1 = torch.randn((n_embd * block_size, n_hidden), generator=g) # layer with n_embd * block_size inputs into n_hidden neurons (outputs)\n",
    "b1 = torch.randn(n_hidden, generator=g) # biases for each neuron in l1\n",
    "W2 = torch.randn((n_hidden, vocab_size), generator=g) # layer with n_hidden inputs (from the outputs of last layer) and vocab_size neurons (outputs)\n",
    "b2 = torch.randn(vocab_size, generator=g) # biases for each neuron in l2\n",
    "parameters = [C, W1, b1, W2, b2]\n",
    "\n",
    "for p in parameters:\n",
    "    p.requires_grad = True\n",
    "    \n",
    "print(sum(p.nelement() for p in parameters))"
   ]
  },
  {
   "cell_type": "code",
   "execution_count": 8,
   "id": "a2a53a58",
   "metadata": {},
   "outputs": [
    {
     "data": {
      "text/plain": [
       "tensor([[ 0,  0,  0],\n",
       "        [ 0,  0, 25],\n",
       "        [ 0, 25, 21],\n",
       "        ...,\n",
       "        [15, 12,  4],\n",
       "        [12,  4,  1],\n",
       "        [ 4,  1, 14]])"
      ]
     },
     "execution_count": 8,
     "metadata": {},
     "output_type": "execute_result"
    }
   ],
   "source": [
    "Xtr"
   ]
  },
  {
   "cell_type": "code",
   "execution_count": 12,
   "id": "d6cf5e47",
   "metadata": {
    "collapsed": true
   },
   "outputs": [
    {
     "data": {
      "text/plain": [
       "tensor([[ 1.8440,  0.3453,  0.1953, -0.5661,  0.4527,  0.3443, -1.8090,  1.2937,\n",
       "          0.8566,  1.6828],\n",
       "        [-0.4254,  0.3362, -1.3770, -0.3820,  0.6596,  2.8369,  2.2826, -1.3003,\n",
       "          1.0703, -0.9366],\n",
       "        [ 0.5528, -0.4487, -1.0804, -0.4100,  0.1098,  0.6950,  1.5666,  0.0737,\n",
       "         -0.0487,  0.7321],\n",
       "        [ 0.1373,  0.7865, -0.3819,  0.8351, -1.1183, -0.4161, -0.6382,  1.1249,\n",
       "         -0.8870,  0.4238],\n",
       "        [-0.1833,  0.0330, -0.7241, -0.1958,  0.0107,  0.4170,  0.1350,  0.1097,\n",
       "          0.0768,  0.0255],\n",
       "        [-0.8707,  0.5263, -0.1781, -0.8629,  0.2441,  0.3664,  0.2807, -0.3945,\n",
       "         -0.6224,  0.0207],\n",
       "        [ 0.7532, -0.5172, -2.3258, -0.7503,  0.5307, -0.1141,  1.7360,  2.2596,\n",
       "         -0.4344,  0.3581],\n",
       "        [-0.2437,  0.5917, -0.0760, -0.0978,  0.0181,  0.9473,  0.7480,  0.6467,\n",
       "         -0.0864, -0.1028],\n",
       "        [-0.9858,  0.0890,  0.1122, -0.8184,  0.1134,  0.4489,  0.0606,  0.5176,\n",
       "         -0.0172, -0.1952],\n",
       "        [-0.5046,  0.5612, -0.1027, -0.5772,  0.0866,  0.6880, -0.1354, -0.3105,\n",
       "         -0.9194, -0.0511],\n",
       "        [-1.2137, -1.1005, -2.4827, -0.5957, -2.7503, -0.4023, -2.2501, -0.2166,\n",
       "         -0.8541,  0.5389],\n",
       "        [-0.3143,  0.0870, -0.1958, -0.6481, -0.1497,  0.2017,  0.5047,  0.4932,\n",
       "          0.0368,  0.2956],\n",
       "        [-0.3776, -0.2829, -0.5866, -0.8217, -0.1834,  0.4518, -0.5037,  0.0682,\n",
       "          0.0152,  0.4108],\n",
       "        [-0.1978, -0.4802, -2.0193, -0.6453, -0.6378,  1.1006,  1.6809,  1.1763,\n",
       "          0.4021,  2.0446],\n",
       "        [ 0.0144, -0.5759,  0.2809, -0.5421, -0.3706,  0.9706,  0.1644,  0.0900,\n",
       "         -0.3227, -0.3257],\n",
       "        [-0.3271,  0.8134, -0.4365, -1.1221,  0.2637,  0.5876,  0.4549, -0.2654,\n",
       "         -0.7574, -0.3014],\n",
       "        [-0.2859,  0.5283, -0.3295, -0.1910, -0.1875,  0.1717,  0.4757,  0.1540,\n",
       "          0.3697,  0.1496],\n",
       "        [ 0.5388,  1.3623,  0.3427,  0.4641, -1.3065,  0.7595, -1.4509,  1.2216,\n",
       "          2.1835,  0.3652],\n",
       "        [-0.0511, -0.2239, -0.7387, -0.6411, -0.4028,  0.5119,  0.1859,  0.3424,\n",
       "         -0.2875, -0.1635],\n",
       "        [ 0.0036,  0.3050,  0.1991, -0.2070, -0.5175,  0.2454,  0.2413,  0.1222,\n",
       "         -0.0601, -0.1331],\n",
       "        [-0.2063,  0.2191, -0.3936, -0.0135, -0.3789,  0.3530,  0.3018, -0.0290,\n",
       "          0.1456, -0.2643],\n",
       "        [-0.3093,  0.9334, -0.2134, -1.0339,  0.1328,  0.3584,  0.4415, -0.0824,\n",
       "         -0.8339,  0.2004],\n",
       "        [ 0.4001, -0.3137, -0.9839,  0.7654, -0.9362,  0.0854, -0.4819,  0.9666,\n",
       "         -1.1444,  0.3293],\n",
       "        [-0.0195,  0.0838, -0.5160, -0.2980,  0.2570,  0.4837,  0.0710,  0.7240,\n",
       "         -0.7122,  0.0793],\n",
       "        [-0.0269,  0.0757,  0.1645, -0.5466, -0.4158,  0.1264,  0.1181,  0.4290,\n",
       "         -0.5321, -0.4415],\n",
       "        [-0.3296,  0.1458, -0.1881, -0.7491,  0.4027,  0.3328, -0.2136, -0.1727,\n",
       "         -0.6819, -0.5326],\n",
       "        [-0.2463, -0.1909,  0.0137, -0.5504, -0.2168,  0.3141,  0.1938,  0.1675,\n",
       "          0.2284, -0.0803]], requires_grad=True)"
      ]
     },
     "execution_count": 12,
     "metadata": {},
     "output_type": "execute_result"
    }
   ],
   "source": [
    "C"
   ]
  },
  {
   "cell_type": "code",
   "execution_count": 26,
   "id": "b3044015",
   "metadata": {},
   "outputs": [
    {
     "data": {
      "text/plain": [
       "float"
      ]
     },
     "execution_count": 26,
     "metadata": {},
     "output_type": "execute_result"
    }
   ],
   "source": [
    "type(embcat[0][0].item())"
   ]
  },
  {
   "cell_type": "code",
   "execution_count": 7,
   "id": "b019f373",
   "metadata": {},
   "outputs": [
    {
     "name": "stdout",
     "output_type": "stream",
     "text": [
      "      0/ 200000: 27.8817\n",
      "  10000/ 200000: 2.8760\n",
      "  20000/ 200000: 2.5281\n",
      "  30000/ 200000: 2.8772\n",
      "  40000/ 200000: 2.0705\n",
      "  50000/ 200000: 2.4949\n",
      "  60000/ 200000: 2.3652\n",
      "  70000/ 200000: 2.0854\n",
      "  80000/ 200000: 2.2428\n",
      "  90000/ 200000: 2.3158\n",
      " 100000/ 200000: 2.0210\n",
      " 110000/ 200000: 2.3824\n",
      " 120000/ 200000: 1.9666\n",
      " 130000/ 200000: 2.4264\n",
      " 140000/ 200000: 2.2627\n",
      " 150000/ 200000: 2.1546\n",
      " 160000/ 200000: 2.1043\n",
      " 170000/ 200000: 1.8062\n",
      " 180000/ 200000: 2.1444\n",
      " 190000/ 200000: 1.8259\n"
     ]
    }
   ],
   "source": [
    "max_steps = 200000\n",
    "batch_size = 32\n",
    "lossi = []\n",
    "\n",
    "for i in range(200000):\n",
    "\n",
    "    # minibatch construct. Makes training faster / more efficient\n",
    "    # splits training data into bacthes and only forward / backward passes for each batch instead on for every sample\n",
    "    ix = torch.randint(0, Xtr.shape[0], (batch_size, ), generator=g) # taking 32 rows of X at a time\n",
    "    # approximates gradients and takes more steps in grad. descent rather than calculating exact grad and taking less steps\n",
    "    Xb, Yb = Xtr[ix], Ytr[ix] # X and Y batches\n",
    "    \n",
    "    # forward pass\n",
    "    emb = C[Xb] # embedded training data. Makes it easier for NN to understand\n",
    "    embcat = emb.view(emb.shape[0], -1) # concatenate vectors\n",
    "    hpreact = embcat @ W1 + b1 # hidden layer pre-activation\n",
    "    h = torch.tanh(hpreact) # hidden layer outputs\n",
    "    logits = h @ W2 + b2 # l2 output before activation. L1 output * weights2 + biases2\n",
    "    loss = F.cross_entropy(logits, Yb) # output layer activation & loss\n",
    "    \n",
    "    # backward pass\n",
    "    for p in parameters:\n",
    "        p.grad = None # always set gradients to none before a backward pass so they don't keep stacking and inflate learning rate\n",
    "    loss.backward()\n",
    "    \n",
    "    # update params\n",
    "    lr = 0.1 if i < 100000 else 0.01  # switches learning rate at 100000 steps in order to be more accurate\n",
    "    for p in parameters:\n",
    "        p.data += -lr * p.grad\n",
    "        \n",
    "    # tracks stats\n",
    "    if i % 10000 == 0:\n",
    "        print(f'{i:7d}/{max_steps:7d}: {loss.item():.4f}') # prints loss every 10000 steps\n",
    "    lossi.append(loss.log10().item())"
   ]
  },
  {
   "cell_type": "code",
   "execution_count": 7,
   "id": "070393af",
   "metadata": {},
   "outputs": [
    {
     "data": {
      "text/plain": [
       "[<matplotlib.lines.Line2D at 0x20ea02d23b0>]"
      ]
     },
     "execution_count": 7,
     "metadata": {},
     "output_type": "execute_result"
    },
    {
     "data": {
      "image/png": "[encoded data removed]",
      "text/plain": [
       "<Figure size 640x480 with 1 Axes>"
      ]
     },
     "metadata": {},
     "output_type": "display_data"
    }
   ],
   "source": [
    "plt.plot(lossi) # plots loss over steps"
   ]
  }
 ],
 "metadata": {
  "kernelspec": {
   "display_name": "Python [conda env:AI]",
   "language": "python",
   "name": "conda-env-AI-py"
  },
  "language_info": {
   "codemirror_mode": {
    "name": "ipython",
    "version": 3
   },
   "file_extension": ".py",
   "mimetype": "text/x-python",
   "name": "python",
   "nbconvert_exporter": "python",
   "pygments_lexer": "ipython3",
   "version": "3.11.3"
  }
 },
 "nbformat": 4,
 "nbformat_minor": 5
}
